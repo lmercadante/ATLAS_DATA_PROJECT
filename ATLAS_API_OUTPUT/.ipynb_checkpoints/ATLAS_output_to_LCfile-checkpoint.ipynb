{
 "cells": [
  {
   "cell_type": "code",
   "execution_count": 19,
   "id": "670c38fe",
   "metadata": {},
   "outputs": [],
   "source": [
    "import numpy as np\n",
    "import pandas as pd"
   ]
  },
  {
   "cell_type": "code",
   "execution_count": 20,
   "id": "e39d1e2e",
   "metadata": {},
   "outputs": [],
   "source": [
    "df_files = pd.read_csv('/project2/rkessler/SURVEYS/LSST/USERS/lmercadante/ATLAS_DATA_PROJECT/ATLAS_API_OUTPUT/CLEAN_DATA/file_list_c.csv', sep = ',')\n",
    "file_list = df_files['File_Name']\n",
    "\n",
    "name_list = df_files['SN_Name']\n",
    "path = '/project2/rkessler/SURVEYS/LSST/USERS/lmercadante/ATLAS_DATA_PROJECT/ATLAS_API_OUTPUT/CLEAN_DATA/'"
   ]
  },
  {
   "cell_type": "code",
   "execution_count": 26,
   "id": "64d1c04a",
   "metadata": {},
   "outputs": [],
   "source": [
    "df_TNS = pd.read_csv('/project2/rkessler/SURVEYS/LSST/USERS/lmercadante/ATLAS_DATA_PROJECT/TNS_GET_OUTPUT/object_get_out_50.csv', sep = ',')"
   ]
  },
  {
   "cell_type": "code",
   "execution_count": 3,
   "id": "d1c62f1d",
   "metadata": {
    "scrolled": true
   },
   "outputs": [
    {
     "data": {
      "text/plain": [
       "0      2016sl\n",
       "1      2016ut\n",
       "2      2016vv\n",
       "3       2016W\n",
       "4      2016wd\n",
       "5      2016ww\n",
       "6      2016yr\n",
       "7      2016ys\n",
       "8       2016Z\n",
       "9      2016za\n",
       "10     2016zd\n",
       "11     2016ze\n",
       "12      2017A\n",
       "13    2017aaa\n",
       "14    2017aac\n",
       "15    2017aap\n",
       "16    2017aas\n",
       "17    2017acb\n",
       "18    2017acd\n",
       "19    2017acq\n",
       "20     2017ad\n",
       "21    2017adi\n",
       "22    2017adj\n",
       "23     2017ae\n",
       "24     2017ag\n",
       "25     2017ah\n",
       "26     2017ai\n",
       "27     2017ar\n",
       "28    2017atv\n",
       "Name: Name, dtype: object"
      ]
     },
     "execution_count": 3,
     "metadata": {},
     "output_type": "execute_result"
    }
   ],
   "source": [
    "df_TNS['Name']"
   ]
  },
  {
   "cell_type": "code",
   "execution_count": 25,
   "id": "de3c763a",
   "metadata": {},
   "outputs": [
    {
     "data": {
      "text/plain": [
       "'/project2/rkessler/SURVEYS/LSST/USERS/lmercadante/ATLAS_DATA_PROJECT/TNS_GET_OUTPUT/object_get_out_50.csv'"
      ]
     },
     "execution_count": 25,
     "metadata": {},
     "output_type": "execute_result"
    }
   ],
   "source": [
    "df_TNS"
   ]
  },
  {
   "cell_type": "code",
   "execution_count": 22,
   "id": "e6c65641",
   "metadata": {},
   "outputs": [],
   "source": [
    "with open('/project2/rkessler/SURVEYS/LSST/USERS/lmercadante/ATLAS_DATA_PROJECT/ATLAS_API_OUTPUT/ATLAS/ATLAS.LIST', 'w') as f:\n",
    "    for i in range(0,len(file_list)):\n",
    "        SN_name = str(df_files['SN_Name'][i])\n",
    "        row = SN_name + '.dat' \n",
    "        f.write(row)\n",
    "        f.write('\\n')"
   ]
  },
  {
   "cell_type": "code",
   "execution_count": 27,
   "id": "936a42b6",
   "metadata": {},
   "outputs": [
    {
     "name": "stdout",
     "output_type": "stream",
     "text": [
      "/project2/rkessler/SURVEYS/LSST/USERS/lmercadante/ATLAS_DATA_PROJECT/ATLAS_API_OUTPUT/CLEAN_DATA/\n",
      "74\n",
      "/project2/rkessler/SURVEYS/LSST/USERS/lmercadante/ATLAS_DATA_PROJECT/ATLAS_API_OUTPUT/CLEAN_DATA/\n",
      "62\n",
      "/project2/rkessler/SURVEYS/LSST/USERS/lmercadante/ATLAS_DATA_PROJECT/ATLAS_API_OUTPUT/CLEAN_DATA/\n",
      "37\n",
      "/project2/rkessler/SURVEYS/LSST/USERS/lmercadante/ATLAS_DATA_PROJECT/ATLAS_API_OUTPUT/CLEAN_DATA/\n",
      "74\n",
      "/project2/rkessler/SURVEYS/LSST/USERS/lmercadante/ATLAS_DATA_PROJECT/ATLAS_API_OUTPUT/CLEAN_DATA/\n",
      "19\n",
      "/project2/rkessler/SURVEYS/LSST/USERS/lmercadante/ATLAS_DATA_PROJECT/ATLAS_API_OUTPUT/CLEAN_DATA/\n",
      "28\n",
      "/project2/rkessler/SURVEYS/LSST/USERS/lmercadante/ATLAS_DATA_PROJECT/ATLAS_API_OUTPUT/CLEAN_DATA/\n",
      "36\n",
      "/project2/rkessler/SURVEYS/LSST/USERS/lmercadante/ATLAS_DATA_PROJECT/ATLAS_API_OUTPUT/CLEAN_DATA/\n",
      "72\n",
      "/project2/rkessler/SURVEYS/LSST/USERS/lmercadante/ATLAS_DATA_PROJECT/ATLAS_API_OUTPUT/CLEAN_DATA/\n",
      "45\n",
      "/project2/rkessler/SURVEYS/LSST/USERS/lmercadante/ATLAS_DATA_PROJECT/ATLAS_API_OUTPUT/CLEAN_DATA/\n",
      "20\n",
      "/project2/rkessler/SURVEYS/LSST/USERS/lmercadante/ATLAS_DATA_PROJECT/ATLAS_API_OUTPUT/CLEAN_DATA/\n",
      "66\n",
      "/project2/rkessler/SURVEYS/LSST/USERS/lmercadante/ATLAS_DATA_PROJECT/ATLAS_API_OUTPUT/CLEAN_DATA/\n",
      "53\n",
      "/project2/rkessler/SURVEYS/LSST/USERS/lmercadante/ATLAS_DATA_PROJECT/ATLAS_API_OUTPUT/CLEAN_DATA/\n",
      "69\n",
      "/project2/rkessler/SURVEYS/LSST/USERS/lmercadante/ATLAS_DATA_PROJECT/ATLAS_API_OUTPUT/CLEAN_DATA/\n",
      "115\n",
      "/project2/rkessler/SURVEYS/LSST/USERS/lmercadante/ATLAS_DATA_PROJECT/ATLAS_API_OUTPUT/CLEAN_DATA/\n",
      "133\n",
      "/project2/rkessler/SURVEYS/LSST/USERS/lmercadante/ATLAS_DATA_PROJECT/ATLAS_API_OUTPUT/CLEAN_DATA/\n",
      "108\n",
      "/project2/rkessler/SURVEYS/LSST/USERS/lmercadante/ATLAS_DATA_PROJECT/ATLAS_API_OUTPUT/CLEAN_DATA/\n",
      "203\n",
      "/project2/rkessler/SURVEYS/LSST/USERS/lmercadante/ATLAS_DATA_PROJECT/ATLAS_API_OUTPUT/CLEAN_DATA/\n",
      "74\n",
      "/project2/rkessler/SURVEYS/LSST/USERS/lmercadante/ATLAS_DATA_PROJECT/ATLAS_API_OUTPUT/CLEAN_DATA/\n",
      "43\n",
      "/project2/rkessler/SURVEYS/LSST/USERS/lmercadante/ATLAS_DATA_PROJECT/ATLAS_API_OUTPUT/CLEAN_DATA/\n",
      "163\n",
      "/project2/rkessler/SURVEYS/LSST/USERS/lmercadante/ATLAS_DATA_PROJECT/ATLAS_API_OUTPUT/CLEAN_DATA/\n",
      "217\n",
      "/project2/rkessler/SURVEYS/LSST/USERS/lmercadante/ATLAS_DATA_PROJECT/ATLAS_API_OUTPUT/CLEAN_DATA/\n",
      "64\n",
      "/project2/rkessler/SURVEYS/LSST/USERS/lmercadante/ATLAS_DATA_PROJECT/ATLAS_API_OUTPUT/CLEAN_DATA/\n",
      "90\n",
      "/project2/rkessler/SURVEYS/LSST/USERS/lmercadante/ATLAS_DATA_PROJECT/ATLAS_API_OUTPUT/CLEAN_DATA/\n",
      "150\n",
      "/project2/rkessler/SURVEYS/LSST/USERS/lmercadante/ATLAS_DATA_PROJECT/ATLAS_API_OUTPUT/CLEAN_DATA/\n",
      "105\n",
      "/project2/rkessler/SURVEYS/LSST/USERS/lmercadante/ATLAS_DATA_PROJECT/ATLAS_API_OUTPUT/CLEAN_DATA/\n",
      "179\n",
      "/project2/rkessler/SURVEYS/LSST/USERS/lmercadante/ATLAS_DATA_PROJECT/ATLAS_API_OUTPUT/CLEAN_DATA/\n",
      "241\n",
      "/project2/rkessler/SURVEYS/LSST/USERS/lmercadante/ATLAS_DATA_PROJECT/ATLAS_API_OUTPUT/CLEAN_DATA/\n",
      "84\n",
      "/project2/rkessler/SURVEYS/LSST/USERS/lmercadante/ATLAS_DATA_PROJECT/ATLAS_API_OUTPUT/CLEAN_DATA/\n",
      "105\n",
      "/project2/rkessler/SURVEYS/LSST/USERS/lmercadante/ATLAS_DATA_PROJECT/ATLAS_API_OUTPUT/CLEAN_DATA/\n",
      "16\n",
      "/project2/rkessler/SURVEYS/LSST/USERS/lmercadante/ATLAS_DATA_PROJECT/ATLAS_API_OUTPUT/CLEAN_DATA/\n",
      "107\n",
      "/project2/rkessler/SURVEYS/LSST/USERS/lmercadante/ATLAS_DATA_PROJECT/ATLAS_API_OUTPUT/CLEAN_DATA/\n",
      "106\n",
      "/project2/rkessler/SURVEYS/LSST/USERS/lmercadante/ATLAS_DATA_PROJECT/ATLAS_API_OUTPUT/CLEAN_DATA/\n",
      "137\n",
      "/project2/rkessler/SURVEYS/LSST/USERS/lmercadante/ATLAS_DATA_PROJECT/ATLAS_API_OUTPUT/CLEAN_DATA/\n",
      "106\n",
      "/project2/rkessler/SURVEYS/LSST/USERS/lmercadante/ATLAS_DATA_PROJECT/ATLAS_API_OUTPUT/CLEAN_DATA/\n",
      "127\n",
      "/project2/rkessler/SURVEYS/LSST/USERS/lmercadante/ATLAS_DATA_PROJECT/ATLAS_API_OUTPUT/CLEAN_DATA/\n",
      "47\n",
      "/project2/rkessler/SURVEYS/LSST/USERS/lmercadante/ATLAS_DATA_PROJECT/ATLAS_API_OUTPUT/CLEAN_DATA/\n",
      "27\n",
      "/project2/rkessler/SURVEYS/LSST/USERS/lmercadante/ATLAS_DATA_PROJECT/ATLAS_API_OUTPUT/CLEAN_DATA/\n",
      "120\n",
      "/project2/rkessler/SURVEYS/LSST/USERS/lmercadante/ATLAS_DATA_PROJECT/ATLAS_API_OUTPUT/CLEAN_DATA/\n",
      "106\n",
      "/project2/rkessler/SURVEYS/LSST/USERS/lmercadante/ATLAS_DATA_PROJECT/ATLAS_API_OUTPUT/CLEAN_DATA/\n",
      "172\n",
      "/project2/rkessler/SURVEYS/LSST/USERS/lmercadante/ATLAS_DATA_PROJECT/ATLAS_API_OUTPUT/CLEAN_DATA/\n",
      "134\n",
      "/project2/rkessler/SURVEYS/LSST/USERS/lmercadante/ATLAS_DATA_PROJECT/ATLAS_API_OUTPUT/CLEAN_DATA/\n",
      "167\n",
      "/project2/rkessler/SURVEYS/LSST/USERS/lmercadante/ATLAS_DATA_PROJECT/ATLAS_API_OUTPUT/CLEAN_DATA/\n",
      "176\n"
     ]
    }
   ],
   "source": [
    "for i in range(0,len(file_list)):\n",
    "    \n",
    "    \n",
    "    SN_name = str(df_files['SN_Name'][i])\n",
    "    RA = str(df_TNS['RA(deg)'][i])\n",
    "    DEC = str(df_TNS['DEC(deg)'][i])\n",
    "    MJD = str(df_TNS['MJD'][i])\n",
    "    Redshift = str(df_TNS['SN_Redshift'][i])\n",
    "    path1 = '/project2/rkessler/SURVEYS/LSST/USERS/lmercadante/ATLAS_DATA_PROJECT/ATLAS_API_OUTPUT/CLEAN_DATA/'\n",
    "    print(path)\n",
    "    df_ATLAS = pd.read_csv(path1 +file_list[i], sep = ',')\n",
    "\n",
    "\n",
    "    MJD_ATLAS = df_ATLAS['MJD']\n",
    "    mag_ATLAS = df_ATLAS['m']\n",
    "    dmag_ATLAS = df_ATLAS['dm']\n",
    "    filter_ATLAS = df_ATLAS['F']\n",
    "    RA_deg = df_ATLAS['RA']\n",
    "    DEC_deg = df_ATLAS['Dec']\n",
    "    Sky_sig_ATLAS = df_ATLAS['Sky']\n",
    "\n",
    "    flux = []\n",
    "    fluxerr = []\n",
    "    sky_flux = []\n",
    "    for i in range(0,len(df_ATLAS),1):\n",
    "        sky = Sky_sig_ATLAS[i]\n",
    "        m = mag_ATLAS[i]\n",
    "        dm = dmag_ATLAS[i]\n",
    "        flux_calc = 10**(-0.4*(m - 27.5))\n",
    "        #print(10**(-0.4*(m + dm - 27.5)),10**(-0.4*(m - 27.5)))\n",
    "        fluxerr_calc = 10**(-0.4*(m - 27.5)) - 10**(-0.4*(m + dm - 27.5))\n",
    "        sky_sig_calc = np.sqrt(10**(-0.4*(sky - 27.5)))\n",
    "        #print(sky, sky_sig_calc)\n",
    "    \n",
    "        sky_flux.append(sky_sig_calc)\n",
    "        flux.append(flux_calc)\n",
    "        fluxerr.append(fluxerr_calc)\n",
    "    \n",
    "        if fluxerr_calc < 0:\n",
    "            print(\"WARNING: Negative Flux\")\n",
    "            \n",
    "    print(i)\n",
    "\n",
    "    \n",
    "    header_info = ['SURVEY: ATLAS', 'SNID: '+SN_name, 'IACU: ' +SN_name, 'FILTERS: co', 'TYPE: 1', 'RA: '+RA, 'DECL: '+DEC, \n",
    "               'PIXSIZE: 1.86','PEAKMJD: '+MJD, 'REDSHIFT_HELIO: '+Redshift+'  +- 0.000', 'HOSTGAL_OBJID: -9', \n",
    "               'HOSTGAL_PHOTOZ: -9','HOSTGAL_SPECZ: -9', 'HOSTGAL_SNSEP: -9', 'HOSTGAL_LOGMASS: -9', 'HOSTGAL_MAG: -9', \n",
    "               'HOSTGAL_SB_FLUXCAL: -9']\n",
    "    rows = []\n",
    "    for i in range(0,len(df_ATLAS),1):\n",
    "        row = 'OBS: ' + str(round(MJD_ATLAS[i],6)) + ' ' + str(filter_ATLAS[i]) + ' ' + 'NA' + ' '+'{:0.5e}'.format(flux[i]) + ' ' + '{:0.4e}'.format(fluxerr[i]) + ' ' + str(round(sky_flux[i],1)) + ' '+ '1'+ ' '+ '0'\n",
    "        rows.append(row)\n",
    "    \n",
    "    path2 = '/project2/rkessler/SURVEYS/LSST/USERS/lmercadante/ATLAS_DATA_PROJECT/ATLAS_API_OUTPUT'\n",
    "    with open(path2 +'/ATLAS/' + str(SN_name)+'.dat', 'w') as f:\n",
    "        f.write('\\n'.join(header_info))\n",
    "        f.write('\\n')\n",
    "        f.write('# ================================')\n",
    "        f.write('\\n')\n",
    "        f.write('# TERSE LIGHT CURVE OUTPUT')\n",
    "        f.write('\\n')\n",
    "        f.write('#')\n",
    "        f.write('\\n')\n",
    "        f.write('NOBS: '+str(len(df_ATLAS)))\n",
    "        f.write('\\n')\n",
    "        f.write('NVAR: 8')\n",
    "        f.write('\\n')\n",
    "        #f.write('VARLIST: MJD BAND FIELD FLUXCAL FLUXCALERR ZPFLUX PSF SKYSIG GAIN PHOTFLAG')\n",
    "        f.write('VARLIST: MJD BAND FIELD FLUXCAL FLUXCALERR SKYSIG GAIN PHOTFLAG')\n",
    "        f.write('\\n')\n",
    "        f.write('\\n'.join(rows))\n",
    "        f.write('\\n')\n",
    "        f.write('END_PHOTOMETRY:')"
   ]
  },
  {
   "cell_type": "code",
   "execution_count": 28,
   "id": "8ba3a0cd",
   "metadata": {},
   "outputs": [],
   "source": [
    "SN_name = str(df_TNS['Name'][0])\n",
    "RA = str(df_TNS['RA(deg)'][0])\n",
    "DEC = str(df_TNS['DEC(deg)'][0])\n",
    "MJD = str(df_TNS['MJD'][0])\n",
    "Redshift = str(df_TNS['SN_Redshift'][0])"
   ]
  },
  {
   "cell_type": "code",
   "execution_count": 29,
   "id": "2c22c9bc",
   "metadata": {},
   "outputs": [],
   "source": [
    "header_info = ['SURVEY: ATLAS', 'SNID: '+SN_name, 'IACU: ' +SN_name, 'FILTERS: co', 'TYPE: 1', 'RA: '+RA, 'DECL: '+DEC, \n",
    "               'PIXSIZE: 1.86','PEAKMJD: '+MJD, 'REDSHIFT_HELIO: '+Redshift+'  +- 0.000', 'HOSTGAL_OBJID: -9', \n",
    "               'HOSTGAL_PHOTOZ: -9','HOSTGAL_SPECZ: -9', 'HOSTGAL_SNSEP: -9', 'HOSTGAL_LOGMASS: -9', 'HOSTGAL_MAG: -9', \n",
    "               'HOSTGAL_SB_FLUXCAL: -9']"
   ]
  },
  {
   "cell_type": "code",
   "execution_count": 15,
   "id": "858ff398",
   "metadata": {},
   "outputs": [
    {
     "data": {
      "text/plain": [
       "'2.07778e-03'"
      ]
     },
     "execution_count": 15,
     "metadata": {},
     "output_type": "execute_result"
    }
   ],
   "source": [
    "'{:0.5e}'.format(flux[0])"
   ]
  },
  {
   "cell_type": "code",
   "execution_count": 26,
   "id": "7bbb0149",
   "metadata": {},
   "outputs": [],
   "source": [
    "rows = []\n",
    "for i in range(0,len(df_ATLAS),1):\n",
    "    #row = 'OBS: ' + str(round(MJD_ATLAS[i],6)) + ' ' + str(filter_ATLAS[i]) + ' ' + 'NA' + ' '+'{:0.5e}'.format(flux[i]) + ' ' + '{:0.4e}'.format(fluxerr[i]) + ' '+ 'NA'+ ' '+ 'NA' ' ' + '27.5' + ' '+ '1'+ ' '+ '0'\n",
    "    row = 'OBS: ' + str(round(MJD_ATLAS[i],6)) + ' ' + str(filter_ATLAS[i]) + ' ' + 'NA' + ' '+'{:0.5e}'.format(flux[i]) + ' ' + '{:0.4e}'.format(fluxerr[i]) + ' ' + str(round(sky_flux[i],1)) + ' '+ '1'+ ' '+ '0'\n",
    "    rows.append(row)\n",
    "                        "
   ]
  },
  {
   "cell_type": "code",
   "execution_count": 28,
   "id": "68500fc4",
   "metadata": {},
   "outputs": [],
   "source": [
    "path = '/project2/rkessler/SURVEYS/LSST/USERS/lmercadante/ATLAS_DATA_PROJECT/ATLAS_API_OUTPUT'\n",
    "with open(path +'/ATLAS/' + str(SN_name)+'.dat', 'w') as f:\n",
    "    f.write('\\n'.join(header_info))\n",
    "    f.write('\\n')\n",
    "    f.write('# ================================')\n",
    "    f.write('\\n')\n",
    "    f.write('# TERSE LIGHT CURVE OUTPUT')\n",
    "    f.write('\\n')\n",
    "    f.write('#')\n",
    "    f.write('\\n')\n",
    "    f.write('NOBS: '+str(len(df_ATLAS)))\n",
    "    f.write('\\n')\n",
    "    f.write('NVAR: 8')\n",
    "    f.write('\\n')\n",
    "    #f.write('VARLIST: MJD BAND FIELD FLUXCAL FLUXCALERR ZPFLUX PSF SKYSIG GAIN PHOTFLAG')\n",
    "    f.write('VARLIST: MJD BAND FIELD FLUXCAL FLUXCALERR SKYSIG GAIN PHOTFLAG')\n",
    "    f.write('\\n')\n",
    "    f.write('\\n'.join(rows))\n",
    "    f.write('\\n')\n",
    "    f.write('END_PHOTOMETRY:')"
   ]
  },
  {
   "cell_type": "code",
   "execution_count": null,
   "id": "bb594732",
   "metadata": {},
   "outputs": [],
   "source": []
  }
 ],
 "metadata": {
  "kernelspec": {
   "display_name": "Python 3",
   "language": "python",
   "name": "python3"
  },
  "language_info": {
   "codemirror_mode": {
    "name": "ipython",
    "version": 3
   },
   "file_extension": ".py",
   "mimetype": "text/x-python",
   "name": "python",
   "nbconvert_exporter": "python",
   "pygments_lexer": "ipython3",
   "version": "3.8.8"
  }
 },
 "nbformat": 4,
 "nbformat_minor": 5
}
